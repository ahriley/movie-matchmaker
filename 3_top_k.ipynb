{
 "cells": [
  {
   "cell_type": "markdown",
   "metadata": {},
   "source": [
    "# Collaborative Filtering: Top-$k$ Filtering\n",
    "\n",
    "## Alex Riley, Apr 23 2018\n",
    "\n",
    "Thus far, we've looked at weighting user ratings by Pearson correlation coefficient and Cosine similarity.  Here we introduce another concept: top-$k$ filtering.  This is very similar to the prior methods but instead of weighting all users, we only consider the $k$ users most-like our user of interest.\n",
    "\n",
    "## Load/split data, compute weights"
   ]
  },
  {
   "cell_type": "code",
   "execution_count": 1,
   "metadata": {},
   "outputs": [],
   "source": [
    "import numpy as np\n",
    "import pandas as pd\n",
    "%matplotlib inline\n",
    "import matplotlib.pyplot as plt\n",
    "from utils import *\n",
    "\n",
    "# to supress divide by zero or NaN errors that are handled\n",
    "ignore = np.seterr(divide='ignore', invalid='ignore')"
   ]
  },
  {
   "cell_type": "code",
   "execution_count": 2,
   "metadata": {},
   "outputs": [],
   "source": [
    "flat_ratings = pd.read_csv('data/ratings.csv',header=0)\n",
    "ratings_p = flat_ratings.pivot_table(index='userId',columns='movieId',values='rating')"
   ]
  },
  {
   "cell_type": "markdown",
   "metadata": {},
   "source": [
    "We'll split this into training and test sets, like usual"
   ]
  },
  {
   "cell_type": "code",
   "execution_count": 3,
   "metadata": {},
   "outputs": [],
   "source": [
    "train_p, test_p = train_test_split(ratings_p, empty=np.nan, testfrac=0.2)"
   ]
  },
  {
   "cell_type": "markdown",
   "metadata": {},
   "source": [
    "Note that it will be useful to have two versions of the dataframes running around\n",
    "* Pearson: empty cells filled with NaNs\n",
    "* Cosine: empty cells filled with 0.0s"
   ]
  },
  {
   "cell_type": "code",
   "execution_count": 4,
   "metadata": {},
   "outputs": [],
   "source": [
    "ratings_c = ratings_p.fillna(value=0.0)\n",
    "train_c = train_p.fillna(value=0.0)\n",
    "test_c = test_p.fillna(value=0.0)"
   ]
  },
  {
   "cell_type": "markdown",
   "metadata": {},
   "source": [
    "Since the weights will not change with changing $k$, we can also compute those for each method"
   ]
  },
  {
   "cell_type": "code",
   "execution_count": 5,
   "metadata": {},
   "outputs": [],
   "source": [
    "weights_p = train_p.transpose().corr()\n",
    "weights_c = cosine_sim(train_c)"
   ]
  },
  {
   "cell_type": "markdown",
   "metadata": {},
   "source": [
    "## Top-$k$ Filtering"
   ]
  },
  {
   "cell_type": "code",
   "execution_count": 6,
   "metadata": {},
   "outputs": [],
   "source": [
    "def predict_topk(rates, weights, k=40):\n",
    "    weights = np.nan_to_num(weights)\n",
    "    vals = rates.values\n",
    "    pred = np.zeros(vals.shape)\n",
    "    mask = rates.mask(rates>0, other=1.0).values\n",
    "    for i in range(vals.shape[0]):\n",
    "        row = weights[:,i]\n",
    "        row[np.isnan(row)] = -np.inf\n",
    "        \n",
    "        # indices of high-weight users, not counting self, descending\n",
    "        topk_users = [np.argsort(row)[-2:-k-2:-1]]\n",
    "        topk_weights = row[topk_users]\n",
    "        sumweights = np.abs(topk_weights).dot(mask[topk_users])\n",
    "        pred[i] = topk_weights.dot(vals[topk_users])/sumweights\n",
    "    \n",
    "    return pd.DataFrame(data=pred, index=rates.index, columns=rates.columns)"
   ]
  },
  {
   "cell_type": "markdown",
   "metadata": {},
   "source": [
    "We compute the top-$k$ filtered results for both the Pearson coefficient weighting and Cosine similarity weighting"
   ]
  },
  {
   "cell_type": "code",
   "execution_count": 7,
   "metadata": {},
   "outputs": [],
   "source": [
    "pred_p = predict_topk(train_c, weights_p.values)\n",
    "pred_c = predict_topk(train_c, weights_c)"
   ]
  },
  {
   "cell_type": "markdown",
   "metadata": {},
   "source": [
    "As before, we can find the MSE of our predictions"
   ]
  },
  {
   "cell_type": "code",
   "execution_count": 8,
   "metadata": {},
   "outputs": [
    {
     "name": "stdout",
     "output_type": "stream",
     "text": [
      "Top-k Pearson MSE: 7.863174820396934\n",
      "Top-k Cosine MSE: 0.9806450923499717\n"
     ]
    }
   ],
   "source": [
    "print(\"Top-k Pearson MSE: \" + str(mse(pred_p.fillna(0.), test_c)))\n",
    "print(\"Top-k Cosine MSE: \" + str(mse(pred_c, test_c)))"
   ]
  },
  {
   "cell_type": "markdown",
   "metadata": {},
   "source": [
    "## Tuning $k$\n",
    "\n",
    "We can plot MSE as a function of $k$ in order to see what the optimum $k$ should be for minimizing the MSE.  For Cosine similarity"
   ]
  },
  {
   "cell_type": "code",
   "execution_count": 9,
   "metadata": {},
   "outputs": [],
   "source": [
    "kvals = [5,10,20,30,50,100,200,300,400,500,600]\n",
    "train_c_mse, test_c_mse = [], []\n",
    "\n",
    "for k in kvals:\n",
    "    predict_k = predict_topk(train_c, weights_c, k=k)\n",
    "    train_c_mse.append(mse(predict_k, actual=train_c))\n",
    "    test_c_mse.append(mse(predict_k, actual=test_c))"
   ]
  },
  {
   "cell_type": "code",
   "execution_count": 10,
   "metadata": {},
   "outputs": [
    {
     "data": {
      "image/png": "[encoded data removed]",
      "text/plain": [
       "<matplotlib.figure.Figure at 0x108358320>"
      ]
     },
     "metadata": {},
     "output_type": "display_data"
    }
   ],
   "source": [
    "plt.plot(kvals, train_c_mse, label='train')\n",
    "plt.plot(kvals, test_c_mse, label='test')\n",
    "plt.xlabel('k')\n",
    "plt.ylabel('MSE')\n",
    "plt.legend(loc='best');"
   ]
  },
  {
   "cell_type": "code",
   "execution_count": 11,
   "metadata": {},
   "outputs": [
    {
     "name": "stdout",
     "output_type": "stream",
     "text": [
      "Optimum k: 300\n",
      "MSE for k_opt: 0.9345761933959383\n"
     ]
    },
    {
     "data": {
      "image/png": "[encoded data removed]",
      "text/plain": [
       "<matplotlib.figure.Figure at 0x108394898>"
      ]
     },
     "metadata": {},
     "output_type": "display_data"
    }
   ],
   "source": [
    "kopt_c = kvals[np.argmin(test_c_mse)]\n",
    "pred_kopt_c = predict_topk(train_c, weights_c, k=kopt_c)\n",
    "\n",
    "print(\"Optimum k: \" + str(kopt_c))\n",
    "print(\"MSE for k_opt: \" + str(test_c_mse[np.argmin(test_c_mse)]))\n",
    "\n",
    "plt.plot(test_c.values[test_c.values > 0], pred_kopt_c.values[test_c.values > 0], '.', ms=0.5)\n",
    "plt.xlabel('Actual')\n",
    "plt.ylabel('Predicted');"
   ]
  },
  {
   "cell_type": "markdown",
   "metadata": {},
   "source": [
    "We still see a smear across parameter space, but theres a reduction in the MSE from ~0.98 to ~0.93 for only considering the top 300 users with Cosine similarity."
   ]
  },
  {
   "cell_type": "code",
   "execution_count": 12,
   "metadata": {},
   "outputs": [],
   "source": [
    "### For Pearson similarity\n",
    "train_p_mse, test_p_mse = [], []\n",
    "for k in kvals:\n",
    "    predict_k = predict_topk(train_c, weights_p.values, k=k)\n",
    "    train_p_mse.append(mse(predict_k.fillna(0), actual=train_c))\n",
    "    test_p_mse.append(mse(predict_k.fillna(0), actual=test_c))"
   ]
  },
  {
   "cell_type": "code",
   "execution_count": 13,
   "metadata": {},
   "outputs": [
    {
     "data": {
      "image/png": "[encoded data removed]",
      "text/plain": [
       "<matplotlib.figure.Figure at 0x108c4a898>"
      ]
     },
     "metadata": {},
     "output_type": "display_data"
    }
   ],
   "source": [
    "plt.plot(kvals, train_p_mse, label='train')\n",
    "plt.plot(kvals, test_p_mse, label='test')\n",
    "plt.title('Pearson')\n",
    "plt.xlabel('k')\n",
    "plt.ylabel('MSE')\n",
    "plt.legend(loc='best');"
   ]
  },
  {
   "cell_type": "markdown",
   "metadata": {},
   "source": [
    "Yeah, the top k clearly didn't work with the Pearson similarity..."
   ]
  },
  {
   "cell_type": "code",
   "execution_count": 14,
   "metadata": {},
   "outputs": [
    {
     "name": "stdout",
     "output_type": "stream",
     "text": [
      "Optimum k: 400\n",
      "MSE for k_opt: 1.4764580832914556\n"
     ]
    },
    {
     "data": {
      "image/png": "[encoded data removed]",
      "text/plain": [
       "<matplotlib.figure.Figure at 0x108b6f710>"
      ]
     },
     "metadata": {},
     "output_type": "display_data"
    }
   ],
   "source": [
    "kopt_p = kvals[np.argmin(test_p_mse)]\n",
    "pred_kopt_p = predict_topk(train_c, weights_p.values, k=kopt_p)\n",
    "\n",
    "print(\"Optimum k: \" + str(kopt_p))\n",
    "print(\"MSE for k_opt: \" + str(test_p_mse[np.argmin(test_p_mse)]))\n",
    "\n",
    "plt.plot(test_p.values[test_p.values > 0], pred_kopt_p.values[test_p.values > 0], '.', ms=0.5)\n",
    "plt.xlabel('Actual')\n",
    "plt.ylabel('Predicted');"
   ]
  },
  {
   "cell_type": "markdown",
   "metadata": {},
   "source": [
    "Again, the results for Pearson similarity are very similar, though there's a much steeper fall-off as you increase the k in low-digits from Pearson than there is in Cosine similarity. Interestingly, here the MSE for Cosine is much smaller than Pearson (0.93 vs. 1.47).\n",
    "\n",
    "## Final note on computation\n",
    "\n",
    "The results in this notebook are for taking the top-$k$ similar users and computing the ratings using only those users *independent of whether those k users actually performed a rating*.  To do the top-$k$ users per user, per movie would get much more computationally challenging.  Here alone there was a relatively small large change in computing time when computing top-$k$ (~30 seconds, linearly dependent on $k$) and simply using the full ratings matrix (~1 second).  For more users, one is probably better off sticking with the full matrix and keeping the computational efficiency."
   ]
  },
  {
   "cell_type": "code",
   "execution_count": null,
   "metadata": {},
   "outputs": [],
   "source": []
  }
 ],
 "metadata": {
  "kernelspec": {
   "display_name": "Python 3",
   "language": "python",
   "name": "python3"
  },
  "language_info": {
   "codemirror_mode": {
    "name": "ipython",
    "version": 3
   },
   "file_extension": ".py",
   "mimetype": "text/x-python",
   "name": "python",
   "nbconvert_exporter": "python",
   "pygments_lexer": "ipython3",
   "version": "3.6.4"
  }
 },
 "nbformat": 4,
 "nbformat_minor": 2
}
